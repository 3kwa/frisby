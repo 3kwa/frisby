{
 "cells": [
  {
   "cell_type": "markdown",
   "metadata": {},
   "source": [
    "# Functors illustrated"
   ]
  },
  {
   "cell_type": "code",
   "execution_count": null,
   "metadata": {},
   "outputs": [],
   "source": [
    "def next_char_from_string(s):\n",
    "    \"\"\"\n",
    "    >>> next_char_from_string(' 64   ')\n",
    "    'A'\n",
    "    \"\"\"\n",
    "    strip = s.strip()\n",
    "    cast = int(strip)\n",
    "    inc = cast + 1\n",
    "    return chr(inc)\n",
    "\n",
    "next_char_from_string(' 64   ')"
   ]
  },
  {
   "cell_type": "code",
   "execution_count": null,
   "metadata": {},
   "outputs": [],
   "source": [
    "def next_char_from_string(s):\n",
    "    return ...\n",
    "\n",
    "next_char_from_string(' 64   ')"
   ]
  },
  {
   "cell_type": "code",
   "execution_count": null,
   "metadata": {},
   "outputs": [],
   "source": [
    "from frisby import Box"
   ]
  },
  {
   "cell_type": "code",
   "execution_count": null,
   "metadata": {},
   "outputs": [],
   "source": [
    "def identity(x): return x"
   ]
  },
  {
   "cell_type": "code",
   "execution_count": null,
   "metadata": {},
   "outputs": [],
   "source": [
    "# named anonymous functions - what code smell? \n"
   ]
  },
  {
   "cell_type": "code",
   "execution_count": null,
   "metadata": {},
   "outputs": [],
   "source": [
    "# Box.of, map & fold\n"
   ]
  },
  {
   "cell_type": "code",
   "execution_count": null,
   "metadata": {},
   "outputs": [],
   "source": [
    "def next_char_from_string(s):\n",
    "    return (\n",
    "            ...\n",
    "           )\n",
    "\n",
    "next_char_from_string(' 64   ')"
   ]
  },
  {
   "cell_type": "code",
   "execution_count": null,
   "metadata": {},
   "outputs": [],
   "source": [
    "%load next_char_from_string.py"
   ]
  },
  {
   "cell_type": "code",
   "execution_count": null,
   "metadata": {},
   "outputs": [],
   "source": [
    "from frisby import Functor\n",
    "\n",
    "Functor??"
   ]
  },
  {
   "cell_type": "markdown",
   "metadata": {},
   "source": [
    "    F.of(x).map(f)  =  F.of(f(x))\n",
    "    F.of(x).fold(f) =  f(x)"
   ]
  },
  {
   "cell_type": "markdown",
   "metadata": {},
   "source": [
    "# Currying (a detour)"
   ]
  },
  {
   "cell_type": "code",
   "execution_count": null,
   "metadata": {},
   "outputs": [],
   "source": [
    "def add(x, y):\n",
    "    return x + y\n",
    "\n",
    "def inc(y):\n",
    "    # a specialized add\n",
    "    return add(1, y)\n",
    "\n",
    "add(1, 3), inc(3)"
   ]
  },
  {
   "cell_type": "code",
   "execution_count": null,
   "metadata": {},
   "outputs": [],
   "source": [
    "from functools import partial\n",
    "\n",
    "inc = partial(add, 1)\n",
    "\n",
    "add(1, 3), inc(3)"
   ]
  },
  {
   "cell_type": "code",
   "execution_count": null,
   "metadata": {},
   "outputs": [],
   "source": [
    "# inc = add(1)\n",
    "\n",
    "def add(x):\n",
    "    def inner(y):\n",
    "        return x + y\n",
    "    return inner\n",
    "\n",
    "inc = add(1)\n",
    "\n",
    "add(1)(3), inc(3)"
   ]
  },
  {
   "cell_type": "code",
   "execution_count": null,
   "metadata": {},
   "outputs": [],
   "source": [
    "add = lambda x: lambda y: x + y\n",
    "inc = add(1)\n",
    "\n",
    "add(1)(3), inc(3)"
   ]
  },
  {
   "cell_type": "code",
   "execution_count": null,
   "metadata": {},
   "outputs": [],
   "source": [
    "import re"
   ]
  },
  {
   "cell_type": "code",
   "execution_count": null,
   "metadata": {},
   "outputs": [],
   "source": [
    "# replace: pattern -> repl -> string -> string\n",
    "\n",
    "# censor: string -> string\n",
    "\n",
    "# map_: f -> iterable -> list\n",
    "\n",
    "# censor_all: list -> list"
   ]
  },
  {
   "cell_type": "code",
   "execution_count": null,
   "metadata": {},
   "outputs": [],
   "source": [
    "%load censor_all.py"
   ]
  },
  {
   "cell_type": "markdown",
   "metadata": {},
   "source": [
    "# Applicative Functors\n",
    "\n",
    "    F.of(f).apply(F.of(x)) = F.of(x).map(f)"
   ]
  },
  {
   "cell_type": "code",
   "execution_count": null,
   "metadata": {},
   "outputs": [],
   "source": [
    "def square(x): return x ** 2"
   ]
  },
  {
   "cell_type": "code",
   "execution_count": null,
   "metadata": {},
   "outputs": [],
   "source": [
    "Box.of(2).map(square)"
   ]
  },
  {
   "cell_type": "code",
   "execution_count": null,
   "metadata": {},
   "outputs": [],
   "source": [
    "Box.of(square).apply(Box.of(2))"
   ]
  },
  {
   "cell_type": "code",
   "execution_count": null,
   "metadata": {},
   "outputs": [],
   "source": [
    "add = lambda x: lambda y: x + y\n",
    "\n",
    "Box.of(add).apply(...) "
   ]
  },
  {
   "cell_type": "code",
   "execution_count": null,
   "metadata": {},
   "outputs": [],
   "source": [
    "def lift_a2(f, fx, fy):\n",
    "    \"\"\"\n",
    "    >>> lift_a2(add, Box.of(3), Box.of(4))\n",
    "    Box(7)\n",
    "    \"\"\"\n",
    "    return ...\n",
    "    \n",
    "lift_a2(add, Box.of(3), Box.of(4))"
   ]
  },
  {
   "cell_type": "code",
   "execution_count": null,
   "metadata": {},
   "outputs": [],
   "source": [
    "%load lift_a2.py"
   ]
  },
  {
   "cell_type": "markdown",
   "metadata": {},
   "source": [
    "# Either Left or Right"
   ]
  },
  {
   "cell_type": "code",
   "execution_count": null,
   "metadata": {},
   "outputs": [],
   "source": [
    "from frisby import Left, Right"
   ]
  },
  {
   "cell_type": "code",
   "execution_count": null,
   "metadata": {},
   "outputs": [],
   "source": [
    "Right(3).map(lambda i: i + 1).map(lambda i: i / 2)"
   ]
  },
  {
   "cell_type": "code",
   "execution_count": null,
   "metadata": {},
   "outputs": [],
   "source": [
    "Left(3).map(lambda i: i + 1).map(lambda i: i / 2)"
   ]
  },
  {
   "cell_type": "code",
   "execution_count": null,
   "metadata": {},
   "outputs": [],
   "source": [
    "import random\n",
    "\n",
    "either = random.choice([Left(3), Right(3)])\n",
    "\n",
    "(\n",
    "    either\n",
    "    .map(lambda i: i + 1)\n",
    "    .map(lambda i: i / 2)\n",
    "#    .fold(...)\n",
    ")"
   ]
  },
  {
   "cell_type": "code",
   "execution_count": null,
   "metadata": {},
   "outputs": [],
   "source": [
    "from frisby import from_nullable\n",
    "\n",
    "from_nullable??"
   ]
  },
  {
   "cell_type": "code",
   "execution_count": null,
   "metadata": {},
   "outputs": [],
   "source": [
    "known_colors = {\"red\": \"#ff4444\",\n",
    "                \"blue\": \"#3b5998\",\n",
    "                \"yellow\": \"#fff68f\"}"
   ]
  },
  {
   "cell_type": "code",
   "execution_count": null,
   "metadata": {},
   "outputs": [],
   "source": [
    "def upper_case_hex_of(color):\n",
    "    \"\"\"\n",
    "    >>> upper_case_hex(\"blue\")\n",
    "    3B5998\n",
    "    \"\"\"\n",
    "    return (\n",
    "           ...\n",
    "           )\n",
    "\n",
    "upper_case_hex_of(\"blue\")#, upper_case_hex_of(\"green\")"
   ]
  },
  {
   "cell_type": "code",
   "execution_count": null,
   "metadata": {},
   "outputs": [],
   "source": [
    "%load upper_case_hex_of.py"
   ]
  },
  {
   "cell_type": "code",
   "execution_count": null,
   "metadata": {},
   "outputs": [],
   "source": [
    "from frisby import try_except\n",
    "\n",
    "try_except??"
   ]
  },
  {
   "cell_type": "code",
   "execution_count": null,
   "metadata": {},
   "outputs": [],
   "source": [
    "def read(filename):\n",
    "    \"\"\"\n",
    "    >>> read(\"config.json\")\n",
    "    '{\"port\": 8888}\\\\n'\n",
    "    \"\"\"\n",
    "    with open(filename) as f:\n",
    "        return f.read()"
   ]
  },
  {
   "cell_type": "code",
   "execution_count": null,
   "metadata": {},
   "outputs": [],
   "source": [
    "import json"
   ]
  },
  {
   "cell_type": "code",
   "execution_count": null,
   "metadata": {},
   "outputs": [],
   "source": [
    "json.loads(read(\"config.json\")).get('port', 3000)"
   ]
  },
  {
   "cell_type": "code",
   "execution_count": null,
   "metadata": {},
   "outputs": [],
   "source": [
    "(\n",
    "    ...\n",
    ")"
   ]
  },
  {
   "cell_type": "code",
   "execution_count": null,
   "metadata": {},
   "outputs": [],
   "source": [
    "%load get_port.py"
   ]
  },
  {
   "cell_type": "markdown",
   "metadata": {},
   "source": [
    "# Monad\n",
    "\n",
    "## Crockford's law: \n",
    "\n",
    "Once you understand monads, you lose the ability to explain them to others."
   ]
  },
  {
   "cell_type": "code",
   "execution_count": null,
   "metadata": {},
   "outputs": [],
   "source": [
    "from frisby import Monadic\n",
    "\n",
    "Monadic??"
   ]
  },
  {
   "cell_type": "markdown",
   "metadata": {},
   "source": [
    "# github.com/3kwa/frisby"
   ]
  },
  {
   "cell_type": "markdown",
   "metadata": {},
   "source": [
    "# Semi WTF"
   ]
  },
  {
   "cell_type": "code",
   "execution_count": null,
   "metadata": {},
   "outputs": [],
   "source": [
    "from frisby import SemiGroup\n",
    "\n",
    "SemiGroup??"
   ]
  },
  {
   "cell_type": "code",
   "execution_count": null,
   "metadata": {},
   "outputs": [],
   "source": []
  },
  {
   "cell_type": "code",
   "execution_count": null,
   "metadata": {},
   "outputs": [],
   "source": [
    "from frisby import Monoid\n",
    "\n",
    "Monoid??"
   ]
  },
  {
   "cell_type": "code",
   "execution_count": null,
   "metadata": {},
   "outputs": [],
   "source": []
  }
 ],
 "metadata": {
  "kernelspec": {
   "display_name": "Python 3",
   "language": "python",
   "name": "python3"
  },
  "language_info": {
   "codemirror_mode": {
    "name": "ipython",
    "version": 3
   },
   "file_extension": ".py",
   "mimetype": "text/x-python",
   "name": "python",
   "nbconvert_exporter": "python",
   "pygments_lexer": "ipython3",
   "version": "3.6.5"
  }
 },
 "nbformat": 4,
 "nbformat_minor": 2
}
